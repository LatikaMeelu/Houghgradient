{
 "cells": [
  {
   "cell_type": "code",
   "execution_count": null,
   "id": "e83629f7",
   "metadata": {},
   "outputs": [
    {
     "name": "stdout",
     "output_type": "stream",
     "text": [
      "Original Dimensions :  (2048, 2048)\n"
     ]
    }
   ],
   "source": [
    "import numpy as np\n",
    "import cv2\n",
    "import cv2 as cv\n",
    "img = cv.imread (r'C:\\Users\\Latika\\Downloads\\output.png', 0)\n",
    "\n",
    "print('Original Dimensions : ', img.shape)\n",
    "median = cv2.medianBlur(img,5)\n",
    "\n",
    "scale_percent = 30  # percent of original size\n",
    "width = int(median.shape[1] * scale_percent / 100)\n",
    "height = int(median.shape[0] * scale_percent / 100)\n",
    "dim = (width, height)\n",
    "\n",
    "# resize image\n",
    "resized = cv2.resize(median, dim, interpolation=cv2.INTER_AREA)\n",
    "hh, ww = resized.shape[:2]\n",
    "\n",
    "min_dist = int(ww/1)\n",
    "##resized_img = cv.medianBlur(resized,5)\n",
    "cimg = cv.cvtColor(resized,cv.COLOR_GRAY2BGR)\n",
    "circles = cv.HoughCircles(resized, cv.HOUGH_GRADIENT, 1, minDist=min_dist, param1=250, param2=18, minRadius=50, maxRadius= 200)\n",
    "\n",
    "\n",
    "\n",
    "\n",
    "\n",
    "circles = np.uint16(np.around(circles))\n",
    "for i in circles[0,:]:\n",
    "\n",
    "    # draw the outer circle\n",
    "    cv.circle(cimg,(i[0],i[1]),i[2],(0,255,0),2)\n",
    "    # draw the center of the circle\n",
    "    cv.circle(cimg,(i[0],i[1]),2,(0,0,255),3)\n",
    "\n",
    "\n",
    "\n",
    "\n",
    "cv.imshow('detected circles',cimg)\n",
    "cv.waitKey(0)\n",
    "cv.destroyAllWindows()"
   ]
  },
  {
   "cell_type": "code",
   "execution_count": null,
   "id": "732a272d",
   "metadata": {},
   "outputs": [],
   "source": []
  }
 ],
 "metadata": {
  "kernelspec": {
   "display_name": "Python 3",
   "language": "python",
   "name": "python3"
  },
  "language_info": {
   "codemirror_mode": {
    "name": "ipython",
    "version": 3
   },
   "file_extension": ".py",
   "mimetype": "text/x-python",
   "name": "python",
   "nbconvert_exporter": "python",
   "pygments_lexer": "ipython3",
   "version": "3.8.8"
  }
 },
 "nbformat": 4,
 "nbformat_minor": 5
}
